{
 "cells": [
  {
   "cell_type": "markdown",
   "metadata": {},
   "source": [
    "## 1. Bitcoin y criptomonedas: un proyecto completo en pándas\n",
    "<p>Desde el lanzamiento de <a href=\"https://newfronttest.bitcoin.com/bitcoin.pdf\">Bitcoin en 2008</a>, han surgido cientos de proyectos similares basados en la tecnología blockchain. Llamamos a estas criptomonedas (también coins o criptos en la jerga de Internet). Algunos son extremadamente valiosos hoy en día, y otros pueden tener el potencial de volverse extremadamente valiosos en el futuro. De hecho, el 6 de diciembre de 2017, Bitcoin tuvo una <a href=\"https://en.wikipedia.org/wiki/Market_capitalization\">capitalización de mercado</a> superior a $ 200 mil millones de dólares.</p>\n",
    "<p><center>\n",
    "<img src=\"https://assets.datacamp.com/production/project_82/img/bitcoint_market_cap_2017.png\" style=\"width:500px\"> <br> \n",
    "<em>La capitalización de Bitcoin en 2017.</em></center></p>\n",
    "<p>Comenzaremos con un CSV que descargamos convenientemente el 6 de diciembre de 2017 usando la API coinmarketcap (NOTA: La API pública se volvió privada en 2020 y ya no está disponible) llamado <code>datos/coinmarketcap_06122017.csv</code>. </p>"
   ]
  },
  {
   "cell_type": "code",
   "execution_count": null,
   "metadata": {},
   "outputs": [],
   "source": [
    "# Importar pandas\n",
    "import pandas as pd\n",
    "\n",
    "# Importar matplotlib y algunos ajustes\n",
    "import matplotlib.pyplot as plt\n",
    "%matplotlib inline\n",
    "%config InlineBackend.figure_format = 'svg' \n",
    "plt.style.use('fivethirtyeight')\n",
    "\n",
    "# Importar datos/coinmarketcap_06122017.csv con pandas\n",
    "dec6 = ...\n",
    "\n",
    "# Seleccionando las columnas 'id' y 'market_cap_usd' \n",
    "market_cap_raw = ...\n",
    "\n",
    "# Contando el número de valores en market_cap_raw\n",
    "..."
   ]
  },
  {
   "cell_type": "markdown",
   "metadata": {},
   "source": [
    "## 2. Descartando criptomonedas sin capitalizqación de mercado\n",
    "<p>¿Por qué difiere el <code>count()</code> para <code>id</code> y <code>market_cap_usd</code>? Esto se debe a que algunas criptomonedas que figuran en coinmarketcap.com no tienen capitalización de mercado conocida, esto está representado por <code>NaN</code> en los dato y los <code>NaN</code>s no se cuentan dentro de <code>count()</code>. Estas criptomonedas son de poco interés para nosotros en este análisis, por lo que podemos eliminarlas.</p>"
   ]
  },
  {
   "cell_type": "code",
   "execution_count": null,
   "metadata": {},
   "outputs": [],
   "source": [
    "# Filtrando las filas con capitalización de mercado\n",
    "cap = ...\n",
    "\n",
    "# Contar el número de valores en cap\n",
    "..."
   ]
  },
  {
   "cell_type": "markdown",
   "metadata": {},
   "source": [
    "## 3. ¿Qué tan grande es Bitcoin en comparación con el resto de las criptomonedas?\n",
    "<p>Al corte de nuestros datos, Bitcoin se encontraba bajo una seria competencia de otros proyectos, pero seguía siendo dominante en la capitalización de mercado. Tracemos la capitalización de mercado de las 10 monedas principales como una gráfica de barras para visualizar mejor esto.</p>"
   ]
  },
  {
   "cell_type": "code",
   "execution_count": null,
   "metadata": {},
   "outputs": [],
   "source": [
    "# Declara los títulos de las visualizaciones\n",
    "TOP_CAP_TITLE = \"Capitalización de mercado (top 10)\"\n",
    "TOP_CAP_YLABEL = \"% de capitalización total\"\n",
    "\n",
    "# Seleccionar las primeras 10 observaciones y que el índice sea \"id\"\n",
    "cap10 = ...\n",
    "\n",
    "# Calcula a variable nueva \"market_cap_perc\"\n",
    "# que sea el porcentaje de capitalización del mercado\n",
    "cap10 = ...\n",
    "\n",
    "# Crea un gráfico de barras con el título del objetoTOP_CAP_TITLE\n",
    "ax = ...\n",
    "\n",
    "# Define que la etiqueta de \"y\" sea TOP_CAP_YLABEL\n",
    "..."
   ]
  },
  {
   "cell_type": "markdown",
   "metadata": {},
   "source": [
    "## 4. Haciendo que el gráfico sea más fácil de leer\n",
    "<p>Si bien el gráfico anterior es lo suficientemente informativo, se puede mejorar. La capitalización de mercado de Bitcoin es demasiado grande y las otras monedas son difíciles de distinguir debido a esto. Mejor usemos una escala log<sup>10</sup> y usemos un color para agrupar por coins haciéndolo más informativo<sup>1</sup>. </p>\n",
    "<p>Para nuestra categorización: bitcoin-cash y bitcoin-gold son bifurcaciones del <a href=\"https://en.wikipedia.org/wiki/Blockchain\">blockchain</a> de Bitcoin<sup>2</sup>. Ethereum y Cardano ofrecen <a href=\"https://en.wikipedia.org/wiki/Smart_contract\">contratos smart</a>. Con Iota y Ripple no puedes hacer minería de coins. Dash, Litecoin y Monero son especiales por lo que les daremos su propio color.</p>\n",
    "<p><sup>1</sup> <em>Esta categorización está muy simplificada.</em></p>\n",
    "<p><sup>2</sup> <em>Las bifurcaciones de Bitcoin son <strong>muy diferentes</strong> entre sí.</em></p>"
   ]
  },
  {
   "cell_type": "code",
   "execution_count": null,
   "metadata": {},
   "outputs": [],
   "source": [
    "# Colores manuales para el gráfico\n",
    "COLORS = [\"orange\", \"green\", \"orange\", \"cyan\", \"cyan\", \"blue\", \n",
    "          \"silver\", \"orange\", \"red\", \"green\"]\n",
    "\n",
    "# A la gráfica anterior añade los colores y la escala de \"y\" \n",
    "ax = ...\n",
    "\n",
    "# Etiqueta de y con \"log(USD)\"\n",
    "...\n",
    "\n",
    "# El toque final. Quitar la etiqueta de \"x\"\n",
    "..."
   ]
  },
  {
   "cell_type": "markdown",
   "metadata": {},
   "source": [
    "## 5. Volatilidad en las criptomonedas\n",
    "<p>El mercado de las criptomonedas ha sido espectacularmente volátil desde que se abrió el primer intercambio. ¡Exploremos un poco más esta volatilidad! Comenzaremos seleccionando y graficando el cambio porcentual de 24 horas y 7 días, que ya tenemos disponible.</p>"
   ]
  },
  {
   "cell_type": "code",
   "execution_count": null,
   "metadata": {},
   "outputs": [],
   "source": [
    "# Selecciona las columnas \"id\", \"percent_change_24h\" y \"percent_change_7d\"\n",
    "volatility = ...\n",
    "\n",
    "# Defíne los índices con \"id\" y elimina las filas con NaN\n",
    "volatility = ...\n",
    "\n",
    "# Ordena el DataFrame por percent_change_24h\n",
    "volatility = ...\n",
    "\n",
    "# Imprime las primeras observaciones\n",
    "..."
   ]
  },
  {
   "cell_type": "markdown",
   "metadata": {},
   "source": [
    "## 6. Podemos observar la volatilidad\n",
    "<p>Parece que puedes perder dinero rápidamente si inviertes en cryptomonedas. Grafiquemos los 10 ganadores y los 10 perdedores de capitalización de mercado.</p>"
   ]
  },
  {
   "cell_type": "code",
   "execution_count": null,
   "metadata": {},
   "outputs": [],
   "source": [
    "# Definimos una función con dos parámetros:\n",
    "# la serie a graficar y el título\n",
    "def top10_subplot(volatility_series, title):\n",
    "    fig, axes = plt.subplots(nrows=1, ncols=2, figsize=(10, 6))\n",
    "    # Grafica los 10 máximos perdedores con color rojo \"darkred\"\n",
    "    ax = ...\n",
    "    # Añade el título con el argumento \"title\"\n",
    "    ...\n",
    "    # Define la etiqueta de \"y\" como \"Cambio porcentual (%)\"\n",
    "    ...\n",
    "    # Realiza el mismo proceso para los ganadores en azul \"darkblue\"\n",
    "    ax = ...\n",
    "    # Cerramos la función\n",
    "    return fig, ax\n",
    "\n",
    "DTITLE = \"Top 10 ganadores y perdedores (24 horas)\"\n",
    "\n",
    "# Utiliza la función de arriba con la serie \"volatility.percent_change_24h\"\n",
    "# y el título \"DTITLE\"\n",
    "fig, ax = ..."
   ]
  },
  {
   "cell_type": "markdown",
   "metadata": {},
   "source": [
    "## 7. Ahora veamos las series semanales\n",
    "<p>¡¿Un incremento diario de 800%?! ¿Por qué no estamos comprando cryptomonedas ahora mismo?<sup>1</sup></p>\n",
    "<p>Ahora usemos la función definida arriba para graficar la serie semanal.</p>\n",
    "<p><em><sup>1</sup> Tómese un momento para comprender las implicaciones de las barras rojas sobre cuánto valor pierden algunas criptomonedas en períodos de tiempo tan cortos.</em></p>"
   ]
  },
  {
   "cell_type": "code",
   "execution_count": null,
   "metadata": {},
   "outputs": [],
   "source": [
    "# Ordenando percent_change_7d de forma ascendente\n",
    "volatility7d = ...\n",
    "\n",
    "WTITLE = \"Ganadores y perdedores semanales\"\n",
    "\n",
    "# Reutiliza la función top10_subplot con la nueva serie\n",
    "fig, ax = ..."
   ]
  },
  {
   "cell_type": "markdown",
   "metadata": {},
   "source": [
    "## 8. ¿Qué tan poco es poco?\n",
    "<p>Los nombres de las criptomonedas anteriores son bastante desconocidos y existe una fluctuación considerable entre los cambios porcentuales de 1 y 7 días. Al igual que con las acciones y muchos otros productos financieros, cuanto menor es la capitalización, mayor es el riesgo y la recompensa. Las criptomonedas más pequeñas son proyectos menos estables en general y, por lo tanto, inversiones incluso más riesgosas que las más grandes.<sup>1</sup>. Clasifiquémos nuestros datos de acuerdo a las <a href=\"https://www.investopedia.com/video/play/large-cap/\">definiciones de Investopedia</a> para acciones de compañías. </p>\n",
    "<p><sup>1</sup> <em>Las criptomonedas son una nueva clase de activos, por lo que no son directamente comparables a las acciones. Además, no hay límites fijados en piedra para lo que es una acción \"pequeña\" o \"grande\". Finalmente, algunos inversores argumentan que bitcoin es similar al oro, esto los haría más comparables a un <a href=\"https://www.investopedia.com/terms/c/commodity.asp\">commodity</a>.</em></p>"
   ]
  },
  {
   "cell_type": "code",
   "execution_count": null,
   "metadata": {},
   "outputs": [],
   "source": [
    "# Selecciona una capitalización arriba de 10 mil millones\n",
    "largecaps = ...\n",
    "\n",
    "# Imprime el objeto largecaps\n",
    "..."
   ]
  },
  {
   "cell_type": "markdown",
   "metadata": {},
   "source": [
    "## 9. La mayoría son pequeñas\n",
    "<p>Tenga en cuenta que muchas cryptomonedas no son comparables a las grandes empresas en capitalización de mercado, así que vamos a desviarnos de la definición original de Investopedia fusionando categorías.</p>"
   ]
  },
  {
   "cell_type": "code",
   "execution_count": null,
   "metadata": {},
   "outputs": [],
   "source": [
    "# Creando una función que cuenta las capitalizaciones que\n",
    "# definamos en su argumento\n",
    "def capcount(query_string):\n",
    "    return cap.query(query_string).count().id\n",
    "\n",
    "# Etiquetas de la visualización\n",
    "LABELS = [\"Grande/Mediana/Pequeña\", \"Micro\", \"Nano\"]\n",
    "\n",
    "# Usando nuestra función para capitalizaciones \n",
    "# mayores a 300 millones\n",
    "biggish = ...\n",
    "\n",
    "# Usando nuestra función para capitalizaciones \n",
    "# mayores a 50 millones y menores a 300 millones\n",
    "micro = ...\n",
    "\n",
    "# Usando nuestra función para capitalizaciones \n",
    "# menores a 50 millones\n",
    "nano =  ...\n",
    "\n",
    "# Creando una lista con los 3 conteos\n",
    "values = ...\n",
    "\n",
    "# Graficando con matplotlib \n",
    "..."
   ]
  }
 ],
 "metadata": {
  "kernelspec": {
   "display_name": "Python 3",
   "language": "python",
   "name": "python3"
  },
  "language_info": {
   "codemirror_mode": {
    "name": "ipython",
    "version": 3
   },
   "file_extension": ".py",
   "mimetype": "text/x-python",
   "name": "python",
   "nbconvert_exporter": "python",
   "pygments_lexer": "ipython3",
   "version": "3.8.5"
  }
 },
 "nbformat": 4,
 "nbformat_minor": 4
}
